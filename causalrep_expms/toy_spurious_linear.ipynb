{
  "nbformat": 4,
  "nbformat_minor": 0,
  "metadata": {
    "colab": {
      "name": "toy_spurious_linear.ipynb",
      "provenance": [],
      "collapsed_sections": []
    },
    "kernelspec": {
      "name": "python3",
      "display_name": "Python 3"
    },
    "language_info": {
      "name": "python"
    }
  },
  "cells": [
    {
      "cell_type": "code",
      "metadata": {
        "id": "rqcGV42sCWVA",
        "colab": {
          "base_uri": "https://localhost:8080/"
        },
        "outputId": "b4450bc8-5fa8-459c-fabb-3efe67b2d197"
      },
      "source": [
        "import numpy as np \n",
        "import numpy.random as npr\n",
        "\n",
        "from sklearn.linear_model import LinearRegression, Ridge\n",
        "from sklearn.decomposition import PCA\n",
        "import statsmodels.api as sm\n",
        "from numpy.linalg import cond"
      ],
      "execution_count": null,
      "outputs": [
        {
          "output_type": "stream",
          "text": [
            "/usr/local/lib/python3.7/dist-packages/statsmodels/tools/_testing.py:19: FutureWarning: pandas.util.testing is deprecated. Use the functions in the public API at pandas.testing instead.\n",
            "  import pandas.util.testing as tm\n"
          ],
          "name": "stderr"
        }
      ]
    },
    {
      "cell_type": "code",
      "metadata": {
        "id": "6bZDRw0QCbTN"
      },
      "source": [
        "N=2000\n",
        "D=5 # number of features\n",
        "mean = np.zeros(D)\n",
        "corr = 0.9"
      ],
      "execution_count": null,
      "outputs": []
    },
    {
      "cell_type": "code",
      "metadata": {
        "id": "IExJbx_iqvIj"
      },
      "source": [
        "y_noise = 0.1\n",
        "# designate the core feature\n",
        "num_corefea = np.int(D/2)\n",
        "true_cause = np.arange(num_corefea).astype(int)"
      ],
      "execution_count": null,
      "outputs": []
    },
    {
      "cell_type": "markdown",
      "metadata": {
        "id": "iwDVxYBpDOqz"
      },
      "source": [
        "## generate simulated datasets with core and spurious features\n",
        "The outcome model is the same in training and testing; the outcome only depends on the core feature. \n",
        "\n",
        "In the training set, the covariates have high correlation. In the test set, the covariates have low correlation."
      ]
    },
    {
      "cell_type": "code",
      "metadata": {
        "id": "m-HCzHT3Cf38"
      },
      "source": [
        "# simulate strongly correlated features for training\n",
        "train_cov = np.ones((D, D)) * corr + np.eye(D) * (1 - corr)\n",
        "train_x_true = npr.multivariate_normal(mean, train_cov, size=N)\n",
        "train_x_true = train_x_true * np.concatenate([-1 * np.ones(D//2), np.ones(D - D//2)])  # create both positive and negatively correlated covariates\n",
        "# train_x_true = np.exp(npr.multivariate_normal(mean, train_cov, size=N)) # exponential of gaussian; no need to be gaussian"
      ],
      "execution_count": null,
      "outputs": []
    },
    {
      "cell_type": "code",
      "metadata": {
        "id": "iLMsNN55CltO"
      },
      "source": [
        "# simulate weakly correlated features for testing\n",
        "test_cov = np.ones((D, D)) * (1 - corr) + np.eye(D) * corr\n",
        "test_x_true = npr.multivariate_normal(mean, test_cov, size=N)\n",
        "# test_x_true = np.exp(npr.multivariate_normal(mean, test_cov, size=N))  # exponential of gaussian; no need to be gaussian"
      ],
      "execution_count": null,
      "outputs": []
    },
    {
      "cell_type": "code",
      "metadata": {
        "id": "-ZMX8Jg4CrX4"
      },
      "source": [
        "# add observation noise to the x\n",
        "# spurious correlation more often occurs when the signal to noise ratio is lower\n",
        "x_noise = np.array(list(np.ones(num_corefea)*0.4) + list(np.ones(D-num_corefea)*0.3))\n",
        "\n",
        "train_x = train_x_true + x_noise * npr.normal(size=[N,D])\n",
        "test_x = test_x_true + x_noise * npr.normal(size=[N,D])"
      ],
      "execution_count": null,
      "outputs": []
    },
    {
      "cell_type": "code",
      "metadata": {
        "colab": {
          "base_uri": "https://localhost:8080/"
        },
        "id": "EyyWwYUVCtOZ",
        "outputId": "e5ddfeaa-d1ec-46ae-eefc-f94427109e55"
      },
      "source": [
        "print(\"\\ntrain X correlation\\n\", np.corrcoef(train_x.T))\n",
        "print(\"\\ntest X correlation\\n\",np.corrcoef(test_x.T))"
      ],
      "execution_count": null,
      "outputs": [
        {
          "output_type": "stream",
          "text": [
            "\n",
            "train X correlation\n",
            " [[ 1.          0.77539078 -0.79854585 -0.80515214 -0.80946749]\n",
            " [ 0.77539078  1.         -0.78604935 -0.79897645 -0.78826129]\n",
            " [-0.79854585 -0.78604935  1.          0.82249577  0.82893882]\n",
            " [-0.80515214 -0.79897645  0.82249577  1.          0.82461495]\n",
            " [-0.80946749 -0.78826129  0.82893882  0.82461495  1.        ]]\n",
            "\n",
            "test X correlation\n",
            " [[1.         0.04767672 0.08736198 0.08612526 0.06286724]\n",
            " [0.04767672 1.         0.10137518 0.08131194 0.12368218]\n",
            " [0.08736198 0.10137518 1.         0.09296564 0.11387599]\n",
            " [0.08612526 0.08131194 0.09296564 1.         0.08053406]\n",
            " [0.06286724 0.12368218 0.11387599 0.08053406 1.        ]]\n"
          ],
          "name": "stdout"
        }
      ]
    },
    {
      "cell_type": "code",
      "metadata": {
        "id": "DKSoRcs2DDnc"
      },
      "source": [
        "# generate outcome\n",
        "# toy model y = x + noise\n",
        "truecoeff = npr.uniform(size=num_corefea) * 10\n",
        "train_y = train_x_true[:,true_cause].dot(truecoeff) + y_noise * npr.normal(size=N)\n",
        "test_y = test_x_true[:,true_cause].dot(truecoeff) + y_noise * npr.normal(size=N)"
      ],
      "execution_count": null,
      "outputs": []
    },
    {
      "cell_type": "markdown",
      "metadata": {
        "id": "XFpZ9QpzIhnr"
      },
      "source": [
        "# baseline naive regression on all features"
      ]
    },
    {
      "cell_type": "code",
      "metadata": {
        "id": "E2sbJ2gFDzau"
      },
      "source": [
        "# regularization parameter for ridge regression\n",
        "alpha = 10"
      ],
      "execution_count": null,
      "outputs": []
    },
    {
      "cell_type": "code",
      "metadata": {
        "id": "OsSxRlmaEQF2"
      },
      "source": [
        "def fitcoef(cov_train, train_y, cov_test=None, test_y=None):\n",
        "\t# linearReg\n",
        "\tprint(\"linearReg\")\n",
        "\treg = LinearRegression()\n",
        "\treg.fit(cov_train, train_y)\n",
        "\tprint(\"coef\", reg.coef_, \"intercept\", reg.intercept_)\n",
        "\tprint(\"train accuracy\", reg.score(cov_train, train_y))\n",
        "\tif cov_test is not None:\n",
        "\t\tprint(\"test accuracy\", reg.score(cov_test, test_y))\n",
        "\n",
        "\t# # linearReg with statsmodels\n",
        "\t# print(\"linearReg with statsmodels\")\n",
        "\t# model = sm.OLS(train_y,sm.add_constant(cov_train, prepend=False))\n",
        "\t# result = model.fit()\n",
        "\t# print(result.summary())\n",
        "\n",
        "\t# ridgeReg\n",
        "\tprint(\"ridgeReg\")\n",
        "\treg = Ridge(alpha=alpha)\n",
        "\treg.fit(cov_train, train_y)\n",
        "\tprint(\"coef\", reg.coef_, \"intercept\", reg.intercept_)\n",
        "\tprint(\"train accuracy\", reg.score(cov_train, train_y))\n",
        "\tif cov_test is not None:\n",
        "\t\tprint(\"test accuracy\", reg.score(cov_test, test_y))"
      ],
      "execution_count": null,
      "outputs": []
    },
    {
      "cell_type": "markdown",
      "metadata": {
        "id": "I5-du6YAIprg"
      },
      "source": [
        "all three features have coefficient different from zeuo\n",
        "\n",
        "test accuracy degrades much from training accuracy."
      ]
    },
    {
      "cell_type": "code",
      "metadata": {
        "colab": {
          "base_uri": "https://localhost:8080/"
        },
        "id": "wwBkNPOkD-sN",
        "outputId": "479103cc-b29a-4786-b6f0-5f17b212ec84"
      },
      "source": [
        "print(\"\\n###########################\\nall features\")\n",
        "\n",
        "cov_train = np.column_stack([train_x])\n",
        "cov_test = np.column_stack([test_x])\n",
        "\n",
        "fitcoef(cov_train, train_y, cov_test, test_y)"
      ],
      "execution_count": null,
      "outputs": [
        {
          "output_type": "stream",
          "text": [
            "\n",
            "###########################\n",
            "all features\n",
            "linearReg\n",
            "coef [ 3.8260484   4.12551171 -1.73184093 -2.1531013  -1.94930994] intercept 0.06787967518858667\n",
            "train accuracy 0.9507623665207684\n",
            "test accuracy 0.5396228741066758\n",
            "ridgeReg\n",
            "coef [ 3.80026212  4.09681077 -1.74901472 -2.16332991 -1.96259499] intercept 0.06734786407779533\n",
            "train accuracy 0.9507587255663613\n",
            "test accuracy 0.533815209576548\n"
          ],
          "name": "stdout"
        }
      ]
    },
    {
      "cell_type": "markdown",
      "metadata": {
        "id": "7q-0wlzpKFjK"
      },
      "source": [
        "next consider oracle, regression only on the core feature"
      ]
    },
    {
      "cell_type": "code",
      "metadata": {
        "colab": {
          "base_uri": "https://localhost:8080/"
        },
        "id": "Pzcu4pD5KKIn",
        "outputId": "7807565d-b61c-4f00-a35c-e63293b1e1f4"
      },
      "source": [
        "print(\"\\n###########################\\nall features\")\n",
        "\n",
        "cov_train = np.column_stack([train_x[:,true_cause]])\n",
        "cov_test = np.column_stack([test_x[:,true_cause]])\n",
        "\n",
        "fitcoef(cov_train, train_y, cov_test, test_y)"
      ],
      "execution_count": null,
      "outputs": [
        {
          "output_type": "stream",
          "text": [
            "\n",
            "###########################\n",
            "all features\n",
            "linearReg\n",
            "coef [6.52558241 6.48789148] intercept 0.07958701260146375\n",
            "train accuracy 0.918613866755308\n",
            "test accuracy 0.8532555333794934\n",
            "ridgeReg\n",
            "coef [6.50908351 6.47266454] intercept 0.07895626923886387\n",
            "train accuracy 0.9186084068200724\n",
            "test accuracy 0.8535213249364966\n"
          ],
          "name": "stdout"
        }
      ]
    },
    {
      "cell_type": "markdown",
      "metadata": {
        "id": "tfNcqjQUI6zp"
      },
      "source": [
        "## causal-rep\n",
        "now try adjust for pca factor, then learn feature coefficient, construct a prediction function using the learned feature mapping, predict on the test set"
      ]
    },
    {
      "cell_type": "code",
      "metadata": {
        "colab": {
          "base_uri": "https://localhost:8080/"
        },
        "id": "HUjIH_5bId2q",
        "outputId": "eb8f5f79-4464-449c-964d-29a25acf7376"
      },
      "source": [
        "# fit pca to high correlated training dataset\n",
        "pca = PCA(n_components=1)\n",
        "pca.fit(train_x)\n",
        "pca.transform(train_x)"
      ],
      "execution_count": null,
      "outputs": [
        {
          "output_type": "execute_result",
          "data": {
            "text/plain": [
              "array([[ 0.1871552 ],\n",
              "       [ 2.1947628 ],\n",
              "       [-1.17747367],\n",
              "       ...,\n",
              "       [ 0.59919576],\n",
              "       [-1.74839058],\n",
              "       [-1.69757482]])"
            ]
          },
          "metadata": {
            "tags": []
          },
          "execution_count": 13
        }
      ]
    },
    {
      "cell_type": "code",
      "metadata": {
        "colab": {
          "base_uri": "https://localhost:8080/"
        },
        "id": "fxsnRRvAEDyG",
        "outputId": "befb17b3-30af-4126-9d86-88121287b8c0"
      },
      "source": [
        "# consider features 0,1 (have to consider a subset of features; \n",
        "# alternatively one can consider features 0,2\n",
        "# cannot consider all three due to colinearity issues \n",
        "# (a.k.a. violation of overlap))\n",
        "print(\"\\n###########################\\ncore + spurious 1 + pca\")\n",
        "candidate_trainfea = train_x[:,:-1]\n",
        "candidate_testfea = test_x[:,:-1]\n",
        "adjust_trainC = pca.transform(train_x)\n",
        "cov_train = np.column_stack([candidate_trainfea, adjust_trainC])\n",
        "print(\"linearReg\")\n",
        "feareg = LinearRegression()\n",
        "feareg.fit(cov_train, train_y)\n",
        "print(\"coef\", feareg.coef_, \"intercept\", feareg.intercept_)\n",
        "print(\"train accuracy\", feareg.score(cov_train, train_y))"
      ],
      "execution_count": null,
      "outputs": [
        {
          "output_type": "stream",
          "text": [
            "\n",
            "###########################\n",
            "core + spurious 1 + pca\n",
            "linearReg\n",
            "coef [ 1.82556191  2.13568875  0.20943855 -0.180255    4.4070216 ] intercept -0.09848025696455924\n",
            "train accuracy 0.9507623665207684\n"
          ],
          "name": "stdout"
        }
      ]
    },
    {
      "cell_type": "code",
      "metadata": {
        "id": "P8oMc64ViD9U"
      },
      "source": [
        "# cond(candidate_trainfea.dot(candidate_trainfea.T))"
      ],
      "execution_count": null,
      "outputs": []
    },
    {
      "cell_type": "markdown",
      "metadata": {
        "id": "6FomMpaGJhJb"
      },
      "source": [
        "above, after adjusting for pca factor, the spurious feature 1 returns close to zero coefficient"
      ]
    },
    {
      "cell_type": "code",
      "metadata": {
        "id": "ILIXp_EVE33w",
        "colab": {
          "base_uri": "https://localhost:8080/"
        },
        "outputId": "84cc20af-0176-45e0-b8dd-03dbaa2a08cf"
      },
      "source": [
        "# construct a prediction model using the learned \n",
        "# feature combination of \"core + spurious 1\"\n",
        "learned_fea_train = candidate_trainfea.dot(feareg.coef_[:candidate_trainfea.shape[1]])[:,np.newaxis]\n",
        "predreg = LinearRegression()\n",
        "predreg.fit(learned_fea_train, train_y)\n",
        "print(\"trainfea_coef\", predreg.coef_, \"intercept\", predreg.intercept_)\n",
        "print(\"trainfea accuracy\", predreg.score(learned_fea_train, train_y))"
      ],
      "execution_count": null,
      "outputs": [
        {
          "output_type": "stream",
          "text": [
            "trainfea_coef [3.29503926] intercept 0.08824633019287884\n",
            "trainfea accuracy 0.9161251249691037\n"
          ],
          "name": "stdout"
        }
      ]
    },
    {
      "cell_type": "code",
      "metadata": {
        "id": "5eLwSdrzFPy4",
        "colab": {
          "base_uri": "https://localhost:8080/"
        },
        "outputId": "1f87456b-dcda-46bc-c9ea-936fa15d014b"
      },
      "source": [
        "# apply the prediction model on the test data\n",
        "learned_fea_test = candidate_testfea.dot(feareg.coef_[:candidate_trainfea.shape[1]])[:,np.newaxis]\n",
        "print(\"testfea accuracy\", predreg.score(learned_fea_test, test_y))"
      ],
      "execution_count": null,
      "outputs": [
        {
          "output_type": "stream",
          "text": [
            "testfea accuracy 0.8514300644432049\n"
          ],
          "name": "stdout"
        }
      ]
    },
    {
      "cell_type": "markdown",
      "metadata": {
        "id": "42g_Ne3kJ8Zt"
      },
      "source": [
        "above, the test accuracy no longer degrades much from the training accuracy.\n",
        "\n",
        "also note that the test accuracy is very close to the oracle accuracy."
      ]
    }
  ]
}